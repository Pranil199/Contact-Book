{
 "cells": [
  {
   "cell_type": "code",
   "execution_count": 1,
   "id": "4aa4d0fe",
   "metadata": {},
   "outputs": [],
   "source": [
    "import tkinter as tk\n",
    "from tkinter import ttk, messagebox\n",
    "import csv"
   ]
  },
  {
   "cell_type": "code",
   "execution_count": 2,
   "id": "24a9b3c1",
   "metadata": {},
   "outputs": [],
   "source": [
    "def add_entry():\n",
    "    first_name = entry_first_name.get(\"1.0\", tk.END).strip()\n",
    "    last_name = entry_last_name.get(\"1.0\", tk.END).strip()\n",
    "    email = entry_email.get(\"1.0\", tk.END).strip()\n",
    "    phone = entry_phone.get(\"1.0\", tk.END).strip()\n",
    "    address = entry_address.get(\"1.0\", tk.END).strip()\n",
    "    \n",
    "    if not all([first_name, last_name, email, phone, address]):\n",
    "        messagebox.showwarning(\"Incomplete Entry\", \"Please fill in all fields.\")\n",
    "        return\n",
    "    \n",
    "    with open('contacts.csv', mode='a', newline='', encoding='utf-8') as file:\n",
    "        writer = csv.writer(file, delimiter=',', quotechar='\"', quoting=csv.QUOTE_MINIMAL)\n",
    "        writer.writerow([first_name, last_name, email, phone, address])\n",
    "    \n",
    "    print(\"Entry added to CSV file.\")\n",
    "    clear_entries()"
   ]
  },
  {
   "cell_type": "code",
   "execution_count": 3,
   "id": "69457082",
   "metadata": {},
   "outputs": [],
   "source": [
    "def clear_entries():\n",
    "    entry_first_name.delete(\"1.0\", tk.END)\n",
    "    entry_last_name.delete(\"1.0\", tk.END)\n",
    "    entry_email.delete(\"1.0\", tk.END)\n",
    "    entry_phone.delete(\"1.0\", tk.END)\n",
    "    entry_address.delete(\"1.0\", tk.END)"
   ]
  },
  {
   "cell_type": "code",
   "execution_count": 4,
   "id": "f9c533c7",
   "metadata": {},
   "outputs": [],
   "source": [
    "def cancel_entry():\n",
    "    clear_entries()\n",
    "    print(\"Entry canceled.\")\n"
   ]
  },
  {
   "cell_type": "code",
   "execution_count": 5,
   "id": "19269172",
   "metadata": {},
   "outputs": [],
   "source": [
    "def search_contact(event=None):\n",
    "    search_name = search_entry.get(\"1.0\", tk.END).strip()\n",
    "    if not search_name:\n",
    "        messagebox.showwarning(\"Empty Search\", \"Please enter a name to search.\")\n",
    "        return\n",
    "    \n",
    "    search_entry.delete(\"1.0\", tk.END)\n",
    "    \n",
    "    search_parts = search_name.split()\n",
    "    search_first_name = search_parts[0]\n",
    "    search_last_name = search_parts[1] if len(search_parts) > 1 else \"\"\n",
    "    \n",
    "    found = False\n",
    "    with open('contacts.csv', mode='r', newline='', encoding='utf-8') as file:\n",
    "        reader = csv.reader(file)\n",
    "        for row in reader:\n",
    "            stored_first_name = row[0]\n",
    "            stored_last_name = row[1]\n",
    "            if (search_first_name == stored_first_name and \n",
    "                search_last_name.lower() == stored_last_name.lower()):\n",
    "                details_entry.delete(\"1.0\", tk.END)\n",
    "                details_entry.insert(\"1.0\", f\"Name: {stored_first_name} {stored_last_name}\\nEmail: {row[2]}\\nPhone: {row[3]}\\nAddress: {row[4]}\")\n",
    "                found = True\n",
    "                break\n",
    "    \n",
    "    if not found:\n",
    "        messagebox.showinfo(\"Contact Not Found\", f\"No contact found with name '{search_name}'.\")"
   ]
  },
  {
   "cell_type": "code",
   "execution_count": 6,
   "id": "732300a1",
   "metadata": {},
   "outputs": [],
   "source": [
    "def clear_details():\n",
    "    details_entry.delete(\"1.0\", tk.END)"
   ]
  },
  {
   "cell_type": "code",
   "execution_count": 7,
   "id": "1588c3ea",
   "metadata": {},
   "outputs": [
    {
     "data": {
      "text/plain": [
       "''"
      ]
     },
     "execution_count": 7,
     "metadata": {},
     "output_type": "execute_result"
    }
   ],
   "source": [
    "root = tk.Tk()\n",
    "root.title(\"Contact Book\")\n",
    "root.resizable(False, False)"
   ]
  },
  {
   "cell_type": "code",
   "execution_count": null,
   "id": "ccd05bda",
   "metadata": {},
   "outputs": [],
   "source": [
    "labels = ['First Name', 'Last Name', 'Email Address', 'Phone Number', 'Address']\n",
    "for index, label_text in enumerate(labels):\n",
    "    label = ttk.Label(root, text=label_text)\n",
    "    label.grid(row=index, column=0, padx=10, pady=5, sticky=tk.W)"
   ]
  },
  {
   "cell_type": "code",
   "execution_count": 8,
   "id": "d7ecb958",
   "metadata": {},
   "outputs": [],
   "source": [
    "entry_first_name = tk.Text(root, width=30, height=1)\n",
    "entry_first_name.grid(row=0, column=1, padx=10, pady=5)"
   ]
  },
  {
   "cell_type": "code",
   "execution_count": 9,
   "id": "1ca36908",
   "metadata": {},
   "outputs": [],
   "source": [
    "entry_last_name = tk.Text(root, width=30, height=1)\n",
    "entry_last_name.grid(row=1, column=1, padx=10, pady=5)"
   ]
  },
  {
   "cell_type": "code",
   "execution_count": 10,
   "id": "22dd53ef",
   "metadata": {},
   "outputs": [],
   "source": [
    "entry_email = tk.Text(root, width=30, height=1)\n",
    "entry_email.grid(row=2, column=1, padx=10, pady=5)"
   ]
  },
  {
   "cell_type": "code",
   "execution_count": 11,
   "id": "92efb686",
   "metadata": {},
   "outputs": [],
   "source": [
    "entry_phone = tk.Text(root, width=30, height=1)\n",
    "entry_phone.grid(row=3, column=1, padx=10, pady=5)"
   ]
  },
  {
   "cell_type": "code",
   "execution_count": 12,
   "id": "30361579",
   "metadata": {},
   "outputs": [],
   "source": [
    "entry_address = tk.Text(root, width=30, height=1)\n",
    "entry_address.grid(row=4, column=1, padx=10, pady=5)"
   ]
  },
  {
   "cell_type": "code",
   "execution_count": 13,
   "id": "d454be63",
   "metadata": {},
   "outputs": [],
   "source": [
    "button_frame = ttk.Frame(root)\n",
    "button_frame.grid(row=5, column=0, columnspan=2, pady=10, sticky=tk.E)"
   ]
  },
  {
   "cell_type": "code",
   "execution_count": 14,
   "id": "f2bf42b6",
   "metadata": {},
   "outputs": [],
   "source": [
    "add_button = ttk.Button(button_frame, text=\"Add\", command=add_entry, width=18)\n",
    "add_button.grid(row=0, column=0, padx=10, pady=5, sticky=tk.E)"
   ]
  },
  {
   "cell_type": "code",
   "execution_count": 15,
   "id": "c43792b8",
   "metadata": {},
   "outputs": [],
   "source": [
    "cancel_button = ttk.Button(button_frame, text=\"Cancel\", command=cancel_entry, width=17)\n",
    "cancel_button.grid(row=0, column=1, padx=10, pady=5, sticky=tk.E)"
   ]
  },
  {
   "cell_type": "code",
   "execution_count": 16,
   "id": "4be9d2ee",
   "metadata": {},
   "outputs": [],
   "source": [
    "search_label = ttk.Label(root, text=\"Search Contact\")\n",
    "search_label.grid(row=6, column=0, padx=10, pady=5, sticky=tk.W)"
   ]
  },
  {
   "cell_type": "code",
   "execution_count": 17,
   "id": "aa21ddc3",
   "metadata": {},
   "outputs": [
    {
     "data": {
      "text/plain": [
       "'2423669415872search_contact'"
      ]
     },
     "execution_count": 17,
     "metadata": {},
     "output_type": "execute_result"
    }
   ],
   "source": [
    "search_entry = tk.Text(root, width=30, height=1)\n",
    "search_entry.grid(row=6, column=1, padx=10, pady=5)\n",
    "search_entry.bind(\"<Return>\", search_contact)"
   ]
  },
  {
   "cell_type": "code",
   "execution_count": 18,
   "id": "eb693391",
   "metadata": {},
   "outputs": [],
   "source": [
    "details_label = ttk.Label(root, text=\"Contact Details\")\n",
    "details_label.grid(row=7, column=0, padx=10, pady=5, sticky=tk.W)"
   ]
  },
  {
   "cell_type": "code",
   "execution_count": 19,
   "id": "26179765",
   "metadata": {},
   "outputs": [],
   "source": [
    "details_entry = tk.Text(root, width=30, height=5)\n",
    "details_entry.grid(row=7, column=1, padx=10, pady=5)"
   ]
  },
  {
   "cell_type": "code",
   "execution_count": null,
   "id": "4b7f192b",
   "metadata": {},
   "outputs": [],
   "source": [
    "clear_button = ttk.Button(root, text=\"Clear\", command=clear_details, width=40)\n",
    "clear_button.grid(row=8, column=1, padx=10, pady=5, sticky=tk.E)\n",
    "root.mainloop()"
   ]
  },
  {
   "cell_type": "code",
   "execution_count": null,
   "id": "7c044e09",
   "metadata": {},
   "outputs": [],
   "source": []
  }
 ],
 "metadata": {
  "kernelspec": {
   "display_name": "Python 3 (ipykernel)",
   "language": "python",
   "name": "python3"
  },
  "language_info": {
   "codemirror_mode": {
    "name": "ipython",
    "version": 3
   },
   "file_extension": ".py",
   "mimetype": "text/x-python",
   "name": "python",
   "nbconvert_exporter": "python",
   "pygments_lexer": "ipython3",
   "version": "3.11.5"
  }
 },
 "nbformat": 4,
 "nbformat_minor": 5
}
